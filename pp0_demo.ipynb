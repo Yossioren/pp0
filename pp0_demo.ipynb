{
 "cells": [
  {
   "cell_type": "code",
   "execution_count": 189,
   "metadata": {},
   "outputs": [],
   "source": [
    "import json\n",
    "import tensorflow as tf\n",
    "import numpy as np\n",
    "from sklearn.preprocessing import LabelEncoder,OneHotEncoder\n",
    "from sklearn.model_selection import StratifiedShuffleSplit\n",
    "from sklearn.metrics import confusion_matrix, classification_report\n",
    "from tensorflow.keras.layers import Input,Conv1D,MaxPool1D,LSTM,Flatten,Dropout,Dense\n",
    "from tensorflow.keras.models import Model\n",
    "from tensorflow.keras.callbacks import EarlyStopping\n",
    "import seaborn as sns\n",
    "import matplotlib.pyplot as plt"
   ]
  },
  {
   "cell_type": "code",
   "execution_count": 175,
   "metadata": {},
   "outputs": [
    {
     "name": "stdout",
     "output_type": "stream",
     "text": [
      "--2021-03-03 20:51:43--  https://github.com/Yossioren/pp0/master/occupancy_small.npz\n",
      "Resolving github.com (github.com)... 140.82.121.4\n",
      "Connecting to github.com (github.com)|140.82.121.4|:443... connected.\n",
      "HTTP request sent, awaiting response... 404 Not Found\n",
      "2021-03-03 20:51:43 ERROR 404: Not Found.\n",
      "\n"
     ]
    }
   ],
   "source": [
    "!wget https://github.com/Yossioren/pp0/master/occupancy_small.npz"
   ]
  },
  {
   "cell_type": "code",
   "execution_count": null,
   "metadata": {},
   "outputs": [],
   "source": []
  },
  {
   "cell_type": "code",
   "execution_count": null,
   "metadata": {},
   "outputs": [],
   "source": []
  },
  {
   "cell_type": "code",
   "execution_count": 89,
   "metadata": {},
   "outputs": [],
   "source": [
    "def cnn_lstm(input_vector, output_size=20, filters=256, strides=3, pool_size=4, units=32, dropout=0.7, lr=0.001)->tf.keras.Model:\n",
    "    inp = Input((input_vector, 1))\n",
    "    x = Conv1D( filters, kernel_size=16, strides=strides, activation='relu')(inp)\n",
    "    x = MaxPool1D(pool_size=pool_size, padding='same')(x)\n",
    "    x = Conv1D(filters, kernel_size=8, strides=strides, activation='relu', padding='same')(x)\n",
    "    x = MaxPool1D(pool_size=pool_size, padding='same')(x)\n",
    "    x = LSTM(units, return_sequences=True, recurrent_activation='hard_sigmoid')(x)\n",
    "    x = Flatten()(x)\n",
    "    x = Dropout(dropout)(x)\n",
    "    preds = Dense(output_size, activation='softmax')(x)\n",
    "    model = Model(inputs=inp, outputs=preds)\n",
    "    opt = tf.keras.optimizers.Adam(lr)\n",
    "    model.compile(optimizer=opt, loss='categorical_crossentropy', metrics=['accuracy'])  # optimizer, metrics\n",
    "    return model"
   ]
  },
  {
   "cell_type": "code",
   "execution_count": 90,
   "metadata": {},
   "outputs": [],
   "source": [
    "def small_cnn_lstm(input_vector, output_size=20, filters=256, strides=3, pool_size=4, units=32, dropout=0.7, kernel_size=32, lr=0.001):\n",
    "    inp = Input((input_vector, 1))\n",
    "    x = Conv1D(filters, kernel_size=kernel_size, strides=strides, activation='relu')(inp)\n",
    "    x = MaxPool1D(pool_size=pool_size, padding='same')(x)\n",
    "    x = LSTM(units, return_sequences=True, recurrent_activation='hard_sigmoid')(x)\n",
    "    x = Flatten()(x)\n",
    "    x = Dropout(dropout)(x)\n",
    "    preds = Dense(output_size, activation='softmax')(x)\n",
    "    model = Model(inputs=inp, outputs=preds)\n",
    "    opt = tf.keras.optimizers.Adam(lr)\n",
    "    model.compile(optimizer=opt, loss='categorical_crossentropy', metrics=['accuracy'])  # optimizer, metrics\n",
    "    return model\n"
   ]
  },
  {
   "cell_type": "code",
   "execution_count": 200,
   "metadata": {},
   "outputs": [],
   "source": [
    "def classify(dataset,n_validation=1):\n",
    "    X=np.array( dataset['X'],dtype=np.float32)\n",
    "    X=X.reshape(*X.shape,-1)\n",
    "    y=np.array( dataset['y'])\n",
    "\n",
    "    lab_enc=LabelEncoder()\n",
    "    lab_hot=OneHotEncoder()\n",
    "    y_num= lab_enc.fit_transform(y)\n",
    "    y_hot=lab_hot.fit_transform(y_num.reshape(-1,1))\n",
    "    y_hot=y_hot.toarray()\n",
    "\n",
    "    skf = StratifiedShuffleSplit(n_splits=10,random_state=666)\n",
    "    preds=[]\n",
    "    true=[]\n",
    "    counter=0\n",
    "    for train_index, test_index in skf.split(X, y_num):\n",
    "        if counter>=n_validation:\n",
    "            break\n",
    "        else:\n",
    "            counter+=1\n",
    "        X_train, X_test = X[train_index], X[test_index]\n",
    "        mean=X_train.mean()\n",
    "        std=X_train.std()\n",
    "        X_train_norm=(X_train-mean+1e-10)/std\n",
    "        X_test_norm=(X_test-mean+1e-10)/std\n",
    "\n",
    "        y_train, y_test = y_hot[train_index], y_num[test_index]\n",
    "        length=X_train.shape[1]\n",
    "        if length<1000:\n",
    "            model=small_cnn_lstm(X_train.shape[1])\n",
    "        else:\n",
    "            model=cnn_lstm(X_train.shape[1])\n",
    "        model.fit(X_train_norm,y_train,validation_split=0.1,epochs=100,verbose=2,callbacks=[EarlyStopping( patience=2,restore_best_weights=True)])\n",
    "        preds.extend( model.predict(X_test_norm).argmax(axis=-1))\n",
    "        true.extend(y_test)\n",
    "        \n",
    "    print(classification_report(true, preds))\n",
    "    cm = confusion_matrix(true,preds)\n",
    "    fig,ax=plt.subplots(figsize=(7,7))\n",
    "    sns.heatmap(cm,ax=ax)\n",
    "    plt.show()\n",
    "\n",
    "\n",
    "\n",
    "    "
   ]
  },
  {
   "cell_type": "code",
   "execution_count": 201,
   "metadata": {},
   "outputs": [],
   "source": [
    "cache_occupancy_data='default_small.npz'\n",
    "sweeps_data='sweeps_small.npz'\n",
    "sns_data='sns_small.npz'\n",
    "dns_data='dns_small.npz'"
   ]
  },
  {
   "cell_type": "code",
   "execution_count": 202,
   "metadata": {},
   "outputs": [],
   "source": [
    "path=sweeps_data"
   ]
  },
  {
   "cell_type": "code",
   "execution_count": 203,
   "metadata": {},
   "outputs": [],
   "source": [
    "data=np.load(path)"
   ]
  },
  {
   "cell_type": "code",
   "execution_count": 204,
   "metadata": {},
   "outputs": [
    {
     "name": "stdout",
     "output_type": "stream",
     "text": [
      "Train on 1620 samples, validate on 180 samples\n",
      "Epoch 1/2\n",
      "1620/1620 - 3s - loss: 2.8725 - accuracy: 0.1290 - val_loss: 2.4829 - val_accuracy: 0.2167\n",
      "Epoch 2/2\n",
      "1620/1620 - 2s - loss: 2.2613 - accuracy: 0.2735 - val_loss: 1.5801 - val_accuracy: 0.6444\n",
      "              precision    recall  f1-score   support\n",
      "\n",
      "           0       0.80      0.40      0.53        10\n",
      "           1       0.78      0.70      0.74        10\n",
      "           2       0.67      0.80      0.73        10\n",
      "           3       0.44      0.80      0.57        10\n",
      "           4       0.57      0.80      0.67        10\n",
      "           5       0.67      0.20      0.31        10\n",
      "           6       0.57      0.80      0.67        10\n",
      "           7       0.50      0.20      0.29        10\n",
      "           8       0.33      0.10      0.15        10\n",
      "           9       1.00      0.10      0.18        10\n",
      "          10       0.55      0.60      0.57        10\n",
      "          11       0.25      0.10      0.14        10\n",
      "          12       0.75      0.90      0.82        10\n",
      "          13       0.67      0.40      0.50        10\n",
      "          14       0.73      0.80      0.76        10\n",
      "          15       0.73      0.80      0.76        10\n",
      "          16       0.50      0.70      0.58        10\n",
      "          17       1.00      0.90      0.95        10\n",
      "          18       0.50      1.00      0.67        10\n",
      "          19       0.47      0.90      0.62        10\n",
      "\n",
      "    accuracy                           0.60       200\n",
      "   macro avg       0.62      0.60      0.56       200\n",
      "weighted avg       0.62      0.60      0.56       200\n",
      "\n"
     ]
    },
    {
     "data": {
      "image/png": "[encoded data removed]",
      "text/plain": [
       "<Figure size 720x720 with 2 Axes>"
      ]
     },
     "metadata": {
      "needs_background": "light"
     },
     "output_type": "display_data"
    }
   ],
   "source": [
    "classify(data)"
   ]
  },
  {
   "cell_type": "code",
   "execution_count": null,
   "metadata": {},
   "outputs": [],
   "source": []
  }
 ],
 "metadata": {
  "kernelspec": {
   "display_name": "tfenv2",
   "language": "python",
   "name": "tfenv2"
  },
  "language_info": {
   "codemirror_mode": {
    "name": "ipython",
    "version": 3
   },
   "file_extension": ".py",
   "mimetype": "text/x-python",
   "name": "python",
   "nbconvert_exporter": "python",
   "pygments_lexer": "ipython3",
   "version": "3.6.8"
  }
 },
 "nbformat": 4,
 "nbformat_minor": 4
}
